{
 "cells": [
  {
   "cell_type": "code",
   "execution_count": 1,
   "metadata": {},
   "outputs": [
    {
     "data": {
      "text/html": [
       "<pre style=\"white-space:pre;overflow-x:auto;line-height:normal;font-family:Menlo,'DejaVu Sans Mono',consolas,'Courier New',monospace\">18:06:43.341 | <span style=\"color: #008080; text-decoration-color: #008080\">INFO</span>    | prefect - Starting temporary server on <span style=\"color: #0000ff; text-decoration-color: #0000ff\">http://127.0.0.1:8485</span>\n",
       "See <span style=\"color: #0000ff; text-decoration-color: #0000ff\">https://docs.prefect.io/3.0/manage/self-host#self-host-a-prefect-server</span> for more information on running a dedicated Prefect server.\n",
       "</pre>\n"
      ],
      "text/plain": [
       "18:06:43.341 | \u001b[36mINFO\u001b[0m    | prefect - Starting temporary server on \u001b[94mhttp://127.0.0.1:8485\u001b[0m\n",
       "See \u001b[94mhttps://docs.prefect.io/3.0/manage/self-host#self-host-a-prefect-server\u001b[0m for more information on running a dedicated Prefect server.\n"
      ]
     },
     "metadata": {},
     "output_type": "display_data"
    },
    {
     "data": {
      "text/html": [
       "<pre style=\"white-space:pre;overflow-x:auto;line-height:normal;font-family:Menlo,'DejaVu Sans Mono',consolas,'Courier New',monospace\">18:06:46.816 | <span style=\"color: #008080; text-decoration-color: #008080\">INFO</span>    | Flow run<span style=\"color: #800080; text-decoration-color: #800080\"> 'clever-koala'</span> - Beginning flow run<span style=\"color: #800080; text-decoration-color: #800080\"> 'clever-koala'</span> for flow<span style=\"color: #800080; text-decoration-color: #800080; font-weight: bold\"> 'show_stars: 4.extract_data'</span>\n",
       "</pre>\n"
      ],
      "text/plain": [
       "18:06:46.816 | \u001b[36mINFO\u001b[0m    | Flow run\u001b[35m 'clever-koala'\u001b[0m - Beginning flow run\u001b[35m 'clever-koala'\u001b[0m for flow\u001b[1;35m 'show_stars: 4.extract_data'\u001b[0m\n"
      ]
     },
     "metadata": {},
     "output_type": "display_data"
    },
    {
     "data": {
      "text/html": [
       "<pre style=\"white-space:pre;overflow-x:auto;line-height:normal;font-family:Menlo,'DejaVu Sans Mono',consolas,'Courier New',monospace\">18:06:49.205 | <span style=\"color: #008080; text-decoration-color: #008080\">INFO</span>    | Task run 'fetch_stats-716' - Finished in state <span style=\"color: #008000; text-decoration-color: #008000\">Completed</span>()\n",
       "</pre>\n"
      ],
      "text/plain": [
       "18:06:49.205 | \u001b[36mINFO\u001b[0m    | Task run 'fetch_stats-716' - Finished in state \u001b[32mCompleted\u001b[0m()\n"
      ]
     },
     "metadata": {},
     "output_type": "display_data"
    },
    {
     "data": {
      "text/html": [
       "<pre style=\"white-space:pre;overflow-x:auto;line-height:normal;font-family:Menlo,'DejaVu Sans Mono',consolas,'Courier New',monospace\">18:06:49.233 | <span style=\"color: #008080; text-decoration-color: #008080\">INFO</span>    | Task run 'get_stars-40a' - Finished in state <span style=\"color: #008000; text-decoration-color: #008000\">Completed</span>()\n",
       "</pre>\n"
      ],
      "text/plain": [
       "18:06:49.233 | \u001b[36mINFO\u001b[0m    | Task run 'get_stars-40a' - Finished in state \u001b[32mCompleted\u001b[0m()\n"
      ]
     },
     "metadata": {},
     "output_type": "display_data"
    },
    {
     "data": {
      "text/html": [
       "<pre style=\"white-space:pre;overflow-x:auto;line-height:normal;font-family:Menlo,'DejaVu Sans Mono',consolas,'Courier New',monospace\">18:06:49.235 | <span style=\"color: #008080; text-decoration-color: #008080\">INFO</span>    | Flow run<span style=\"color: #800080; text-decoration-color: #800080\"> 'clever-koala'</span> - wasit7/papapipeline: 2 stars\n",
       "</pre>\n"
      ],
      "text/plain": [
       "18:06:49.235 | \u001b[36mINFO\u001b[0m    | Flow run\u001b[35m 'clever-koala'\u001b[0m - wasit7/papapipeline: 2 stars\n"
      ]
     },
     "metadata": {},
     "output_type": "display_data"
    },
    {
     "data": {
      "text/html": [
       "<pre style=\"white-space:pre;overflow-x:auto;line-height:normal;font-family:Menlo,'DejaVu Sans Mono',consolas,'Courier New',monospace\">18:06:49.758 | <span style=\"color: #008080; text-decoration-color: #008080\">INFO</span>    | Task run 'fetch_stats-d41' - Finished in state <span style=\"color: #008000; text-decoration-color: #008000\">Completed</span>()\n",
       "</pre>\n"
      ],
      "text/plain": [
       "18:06:49.758 | \u001b[36mINFO\u001b[0m    | Task run 'fetch_stats-d41' - Finished in state \u001b[32mCompleted\u001b[0m()\n"
      ]
     },
     "metadata": {},
     "output_type": "display_data"
    },
    {
     "data": {
      "text/html": [
       "<pre style=\"white-space:pre;overflow-x:auto;line-height:normal;font-family:Menlo,'DejaVu Sans Mono',consolas,'Courier New',monospace\">18:06:49.790 | <span style=\"color: #008080; text-decoration-color: #008080\">INFO</span>    | Task run 'get_stars-c8f' - Finished in state <span style=\"color: #008000; text-decoration-color: #008000\">Completed</span>()\n",
       "</pre>\n"
      ],
      "text/plain": [
       "18:06:49.790 | \u001b[36mINFO\u001b[0m    | Task run 'get_stars-c8f' - Finished in state \u001b[32mCompleted\u001b[0m()\n"
      ]
     },
     "metadata": {},
     "output_type": "display_data"
    },
    {
     "data": {
      "text/html": [
       "<pre style=\"white-space:pre;overflow-x:auto;line-height:normal;font-family:Menlo,'DejaVu Sans Mono',consolas,'Courier New',monospace\">18:06:49.793 | <span style=\"color: #008080; text-decoration-color: #008080\">INFO</span>    | Flow run<span style=\"color: #800080; text-decoration-color: #800080\"> 'clever-koala'</span> - wasit7/DjangoCrafter: 0 stars\n",
       "</pre>\n"
      ],
      "text/plain": [
       "18:06:49.793 | \u001b[36mINFO\u001b[0m    | Flow run\u001b[35m 'clever-koala'\u001b[0m - wasit7/DjangoCrafter: 0 stars\n"
      ]
     },
     "metadata": {},
     "output_type": "display_data"
    },
    {
     "data": {
      "text/html": [
       "<pre style=\"white-space:pre;overflow-x:auto;line-height:normal;font-family:Menlo,'DejaVu Sans Mono',consolas,'Courier New',monospace\">18:06:50.537 | <span style=\"color: #008080; text-decoration-color: #008080\">INFO</span>    | Task run 'fetch_stats-f03' - Finished in state <span style=\"color: #008000; text-decoration-color: #008000\">Completed</span>()\n",
       "</pre>\n"
      ],
      "text/plain": [
       "18:06:50.537 | \u001b[36mINFO\u001b[0m    | Task run 'fetch_stats-f03' - Finished in state \u001b[32mCompleted\u001b[0m()\n"
      ]
     },
     "metadata": {},
     "output_type": "display_data"
    },
    {
     "data": {
      "text/html": [
       "<pre style=\"white-space:pre;overflow-x:auto;line-height:normal;font-family:Menlo,'DejaVu Sans Mono',consolas,'Courier New',monospace\">18:06:50.571 | <span style=\"color: #008080; text-decoration-color: #008080\">INFO</span>    | Task run 'get_stars-f10' - Finished in state <span style=\"color: #008000; text-decoration-color: #008000\">Completed</span>()\n",
       "</pre>\n"
      ],
      "text/plain": [
       "18:06:50.571 | \u001b[36mINFO\u001b[0m    | Task run 'get_stars-f10' - Finished in state \u001b[32mCompleted\u001b[0m()\n"
      ]
     },
     "metadata": {},
     "output_type": "display_data"
    },
    {
     "data": {
      "text/html": [
       "<pre style=\"white-space:pre;overflow-x:auto;line-height:normal;font-family:Menlo,'DejaVu Sans Mono',consolas,'Courier New',monospace\">18:06:50.575 | <span style=\"color: #008080; text-decoration-color: #008080\">INFO</span>    | Flow run<span style=\"color: #800080; text-decoration-color: #800080\"> 'clever-koala'</span> - PrefectHQ/prefect: 19206 stars\n",
       "</pre>\n"
      ],
      "text/plain": [
       "18:06:50.575 | \u001b[36mINFO\u001b[0m    | Flow run\u001b[35m 'clever-koala'\u001b[0m - PrefectHQ/prefect: 19206 stars\n"
      ]
     },
     "metadata": {},
     "output_type": "display_data"
    },
    {
     "data": {
      "text/html": [
       "<pre style=\"white-space:pre;overflow-x:auto;line-height:normal;font-family:Menlo,'DejaVu Sans Mono',consolas,'Courier New',monospace\">18:06:51.264 | <span style=\"color: #008080; text-decoration-color: #008080\">INFO</span>    | Task run 'fetch_stats-b2a' - Finished in state <span style=\"color: #008000; text-decoration-color: #008000\">Completed</span>()\n",
       "</pre>\n"
      ],
      "text/plain": [
       "18:06:51.264 | \u001b[36mINFO\u001b[0m    | Task run 'fetch_stats-b2a' - Finished in state \u001b[32mCompleted\u001b[0m()\n"
      ]
     },
     "metadata": {},
     "output_type": "display_data"
    },
    {
     "data": {
      "text/html": [
       "<pre style=\"white-space:pre;overflow-x:auto;line-height:normal;font-family:Menlo,'DejaVu Sans Mono',consolas,'Courier New',monospace\">18:06:51.298 | <span style=\"color: #008080; text-decoration-color: #008080\">INFO</span>    | Task run 'get_stars-42e' - Finished in state <span style=\"color: #008000; text-decoration-color: #008000\">Completed</span>()\n",
       "</pre>\n"
      ],
      "text/plain": [
       "18:06:51.298 | \u001b[36mINFO\u001b[0m    | Task run 'get_stars-42e' - Finished in state \u001b[32mCompleted\u001b[0m()\n"
      ]
     },
     "metadata": {},
     "output_type": "display_data"
    },
    {
     "data": {
      "text/html": [
       "<pre style=\"white-space:pre;overflow-x:auto;line-height:normal;font-family:Menlo,'DejaVu Sans Mono',consolas,'Courier New',monospace\">18:06:51.300 | <span style=\"color: #008080; text-decoration-color: #008080\">INFO</span>    | Flow run<span style=\"color: #800080; text-decoration-color: #800080\"> 'clever-koala'</span> - huggingface/transformers: 143941 stars\n",
       "</pre>\n"
      ],
      "text/plain": [
       "18:06:51.300 | \u001b[36mINFO\u001b[0m    | Flow run\u001b[35m 'clever-koala'\u001b[0m - huggingface/transformers: 143941 stars\n"
      ]
     },
     "metadata": {},
     "output_type": "display_data"
    },
    {
     "data": {
      "text/html": [
       "<pre style=\"white-space:pre;overflow-x:auto;line-height:normal;font-family:Menlo,'DejaVu Sans Mono',consolas,'Courier New',monospace\">18:06:51.327 | <span style=\"color: #008080; text-decoration-color: #008080\">INFO</span>    | Flow run<span style=\"color: #800080; text-decoration-color: #800080\"> 'clever-koala'</span> - Finished in state <span style=\"color: #008000; text-decoration-color: #008000\">Completed</span>()\n",
       "</pre>\n"
      ],
      "text/plain": [
       "18:06:51.327 | \u001b[36mINFO\u001b[0m    | Flow run\u001b[35m 'clever-koala'\u001b[0m - Finished in state \u001b[32mCompleted\u001b[0m()\n"
      ]
     },
     "metadata": {},
     "output_type": "display_data"
    }
   ],
   "source": [
    "\n",
    "import httpx\n",
    "\n",
    "from prefect import flow, task # Prefect flow and task decorators\n",
    "\n",
    "\n",
    "@flow(name=\"show_stars: 4.extract_data\", log_prints=True)\n",
    "def show_stars(github_repos: list[str]):\n",
    "    \"\"\"Flow: Show the number of stars that GitHub repos have\"\"\"\n",
    "\n",
    "    for repo in github_repos:\n",
    "        # Call Task 1\n",
    "        repo_stats = fetch_stats(repo)\n",
    "\n",
    "        # Call Task 2\n",
    "        stars = get_stars(repo_stats)\n",
    "\n",
    "        # Print the result\n",
    "        print(f\"{repo}: {stars} stars\")\n",
    "\n",
    "\n",
    "@task\n",
    "def fetch_stats(github_repo: str):\n",
    "    \"\"\"Task 1: Fetch the statistics for a GitHub repo\"\"\"\n",
    "\n",
    "    return httpx.get(f\"https://api.github.com/repos/{github_repo}\").json()\n",
    "\n",
    "\n",
    "@task\n",
    "def get_stars(repo_stats: dict):\n",
    "    \"\"\"Task 2: Get the number of stars from GitHub repo statistics\"\"\"\n",
    "\n",
    "    return repo_stats['stargazers_count']\n",
    "\n",
    "\n",
    "# Run the flow\n",
    "if __name__ == \"__main__\":\n",
    "    show_stars([\n",
    "        \"wasit7/papapipeline\",\n",
    "        \"wasit7/DjangoCrafter\",\n",
    "        \"PrefectHQ/prefect\",\n",
    "        \"huggingface/transformers\"\n",
    "    ])\n"
   ]
  }
 ],
 "metadata": {
  "kernelspec": {
   "display_name": "Python 3",
   "language": "python",
   "name": "python3"
  },
  "language_info": {
   "codemirror_mode": {
    "name": "ipython",
    "version": 3
   },
   "file_extension": ".py",
   "mimetype": "text/x-python",
   "name": "python",
   "nbconvert_exporter": "python",
   "pygments_lexer": "ipython3",
   "version": "3.9.6"
  }
 },
 "nbformat": 4,
 "nbformat_minor": 2
}
