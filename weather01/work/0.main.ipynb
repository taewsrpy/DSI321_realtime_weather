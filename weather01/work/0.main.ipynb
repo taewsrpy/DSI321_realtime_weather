{
 "cells": [
  {
   "cell_type": "code",
   "execution_count": 7,
   "metadata": {},
   "outputs": [
    {
     "name": "stdout",
     "output_type": "stream",
     "text": [
      "Defaulting to user installation because normal site-packages is not writeable\n",
      "Collecting jupytext\n",
      "  Downloading jupytext-1.17.1-py3-none-any.whl.metadata (14 kB)\n",
      "Requirement already satisfied: markdown-it-py>=1.0 in /Users/siripreyacharoenjit/Library/Python/3.9/lib/python/site-packages (from jupytext) (3.0.0)\n",
      "Collecting mdit-py-plugins (from jupytext)\n",
      "  Downloading mdit_py_plugins-0.4.2-py3-none-any.whl.metadata (2.8 kB)\n",
      "Requirement already satisfied: nbformat in /Users/siripreyacharoenjit/Library/Python/3.9/lib/python/site-packages (from jupytext) (5.10.4)\n",
      "Requirement already satisfied: packaging in /Users/siripreyacharoenjit/Library/Python/3.9/lib/python/site-packages (from jupytext) (24.1)\n",
      "Requirement already satisfied: pyyaml in /Users/siripreyacharoenjit/Library/Python/3.9/lib/python/site-packages (from jupytext) (6.0.2)\n",
      "Requirement already satisfied: tomli in /Users/siripreyacharoenjit/Library/Python/3.9/lib/python/site-packages (from jupytext) (2.0.1)\n",
      "Requirement already satisfied: mdurl~=0.1 in /Users/siripreyacharoenjit/Library/Python/3.9/lib/python/site-packages (from markdown-it-py>=1.0->jupytext) (0.1.2)\n",
      "Requirement already satisfied: fastjsonschema>=2.15 in /Users/siripreyacharoenjit/Library/Python/3.9/lib/python/site-packages (from nbformat->jupytext) (2.20.0)\n",
      "Requirement already satisfied: jsonschema>=2.6 in /Users/siripreyacharoenjit/Library/Python/3.9/lib/python/site-packages (from nbformat->jupytext) (4.23.0)\n",
      "Requirement already satisfied: jupyter-core!=5.0.*,>=4.12 in /Users/siripreyacharoenjit/Library/Python/3.9/lib/python/site-packages (from nbformat->jupytext) (5.7.2)\n",
      "Requirement already satisfied: traitlets>=5.1 in /Users/siripreyacharoenjit/Library/Python/3.9/lib/python/site-packages (from nbformat->jupytext) (5.14.3)\n",
      "Requirement already satisfied: attrs>=22.2.0 in /Users/siripreyacharoenjit/Library/Python/3.9/lib/python/site-packages (from jsonschema>=2.6->nbformat->jupytext) (24.2.0)\n",
      "Requirement already satisfied: jsonschema-specifications>=2023.03.6 in /Users/siripreyacharoenjit/Library/Python/3.9/lib/python/site-packages (from jsonschema>=2.6->nbformat->jupytext) (2023.12.1)\n",
      "Requirement already satisfied: referencing>=0.28.4 in /Users/siripreyacharoenjit/Library/Python/3.9/lib/python/site-packages (from jsonschema>=2.6->nbformat->jupytext) (0.35.1)\n",
      "Requirement already satisfied: rpds-py>=0.7.1 in /Users/siripreyacharoenjit/Library/Python/3.9/lib/python/site-packages (from jsonschema>=2.6->nbformat->jupytext) (0.20.0)\n",
      "Requirement already satisfied: platformdirs>=2.5 in /Users/siripreyacharoenjit/Library/Python/3.9/lib/python/site-packages (from jupyter-core!=5.0.*,>=4.12->nbformat->jupytext) (4.3.6)\n",
      "Downloading jupytext-1.17.1-py3-none-any.whl (164 kB)\n",
      "Downloading mdit_py_plugins-0.4.2-py3-none-any.whl (55 kB)\n",
      "Installing collected packages: mdit-py-plugins, jupytext\n",
      "Successfully installed jupytext-1.17.1 mdit-py-plugins-0.4.2\n",
      "\n",
      "\u001b[1m[\u001b[0m\u001b[34;49mnotice\u001b[0m\u001b[1;39;49m]\u001b[0m\u001b[39;49m A new release of pip is available: \u001b[0m\u001b[31;49m24.2\u001b[0m\u001b[39;49m -> \u001b[0m\u001b[32;49m25.1.1\u001b[0m\n",
      "\u001b[1m[\u001b[0m\u001b[34;49mnotice\u001b[0m\u001b[1;39;49m]\u001b[0m\u001b[39;49m To update, run: \u001b[0m\u001b[32;49m/Library/Developer/CommandLineTools/usr/bin/python3 -m pip install --upgrade pip\u001b[0m\n",
      "Note: you may need to restart the kernel to use updated packages.\n"
     ]
    }
   ],
   "source": [
    "pip install jupytext"
   ]
  },
  {
   "cell_type": "code",
   "execution_count": 8,
   "metadata": {},
   "outputs": [
    {
     "name": "stdout",
     "output_type": "stream",
     "text": [
      ">>> result: Hello, DSI321: Big Data Infrastructure!\n"
     ]
    }
   ],
   "source": [
    "def say_hello():\n",
    "    return \"Hello, \"\n",
    "\n",
    "def get_name():\n",
    "    return \"DSI321: Big Data Infrastructure\"\n",
    "    \n",
    "def hello_flow():\n",
    "    result = say_hello() + get_name() + \"!\"\n",
    "    print(f\">>> result: {result}\")\n",
    "    return result\n",
    "\n",
    "if __name__ == '__main__':\n",
    "    hello_flow()"
   ]
  }
 ],
 "metadata": {
  "kernelspec": {
   "display_name": "Python 3",
   "language": "python",
   "name": "python3"
  },
  "language_info": {
   "codemirror_mode": {
    "name": "ipython",
    "version": 3
   },
   "file_extension": ".py",
   "mimetype": "text/x-python",
   "name": "python",
   "nbconvert_exporter": "python",
   "pygments_lexer": "ipython3",
   "version": "3.9.6"
  }
 },
 "nbformat": 4,
 "nbformat_minor": 2
}
