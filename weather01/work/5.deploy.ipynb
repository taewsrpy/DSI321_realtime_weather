{
 "cells": [
  {
   "cell_type": "code",
   "execution_count": 1,
   "metadata": {},
   "outputs": [
    {
     "data": {
      "text/html": [
       "<pre style=\"white-space:pre;overflow-x:auto;line-height:normal;font-family:Menlo,'DejaVu Sans Mono',consolas,'Courier New',monospace\">18:56:42.524 | <span style=\"color: #008080; text-decoration-color: #008080\">INFO</span>    | prefect - Starting temporary server on <span style=\"color: #0000ff; text-decoration-color: #0000ff\">http://127.0.0.1:8484</span>\n",
       "See <span style=\"color: #0000ff; text-decoration-color: #0000ff\">https://docs.prefect.io/3.0/manage/self-host#self-host-a-prefect-server</span> for more information on running a dedicated Prefect server.\n",
       "</pre>\n"
      ],
      "text/plain": [
       "18:56:42.524 | \u001b[36mINFO\u001b[0m    | prefect - Starting temporary server on \u001b[94mhttp://127.0.0.1:8484\u001b[0m\n",
       "See \u001b[94mhttps://docs.prefect.io/3.0/manage/self-host#self-host-a-prefect-server\u001b[0m for more information on running a dedicated Prefect server.\n"
      ]
     },
     "metadata": {},
     "output_type": "display_data"
    },
    {
     "ename": "ValueError",
     "evalue": "Could not find work pool 'default-agent-pool'. Please create it before deploying this flow.",
     "output_type": "error",
     "traceback": [
      "\u001b[0;31m---------------------------------------------------------------------------\u001b[0m",
      "\u001b[0;31mPrefectHTTPStatusError\u001b[0m                    Traceback (most recent call last)",
      "File \u001b[0;32m~/Library/Python/3.9/lib/python/site-packages/prefect/client/orchestration/_work_pools/client.py:416\u001b[0m, in \u001b[0;36mWorkPoolAsyncClient.read_work_pool\u001b[0;34m(self, work_pool_name)\u001b[0m\n\u001b[1;32m    415\u001b[0m \u001b[38;5;28;01mtry\u001b[39;00m:\n\u001b[0;32m--> 416\u001b[0m     response \u001b[38;5;241m=\u001b[39m \u001b[38;5;28;01mawait\u001b[39;00m \u001b[38;5;28mself\u001b[39m\u001b[38;5;241m.\u001b[39mrequest(\n\u001b[1;32m    417\u001b[0m         \u001b[38;5;124m\"\u001b[39m\u001b[38;5;124mGET\u001b[39m\u001b[38;5;124m\"\u001b[39m,\n\u001b[1;32m    418\u001b[0m         \u001b[38;5;124m\"\u001b[39m\u001b[38;5;124m/work_pools/\u001b[39m\u001b[38;5;132;01m{name}\u001b[39;00m\u001b[38;5;124m\"\u001b[39m,\n\u001b[1;32m    419\u001b[0m         path_params\u001b[38;5;241m=\u001b[39m{\u001b[38;5;124m\"\u001b[39m\u001b[38;5;124mname\u001b[39m\u001b[38;5;124m\"\u001b[39m: work_pool_name},\n\u001b[1;32m    420\u001b[0m     )\n\u001b[1;32m    421\u001b[0m     \u001b[38;5;28;01mreturn\u001b[39;00m WorkPool\u001b[38;5;241m.\u001b[39mmodel_validate(response\u001b[38;5;241m.\u001b[39mjson())\n",
      "File \u001b[0;32m~/Library/Python/3.9/lib/python/site-packages/prefect/client/orchestration/base.py:53\u001b[0m, in \u001b[0;36mBaseAsyncClient.request\u001b[0;34m(self, method, path, params, path_params, **kwargs)\u001b[0m\n\u001b[1;32m     52\u001b[0m request \u001b[38;5;241m=\u001b[39m \u001b[38;5;28mself\u001b[39m\u001b[38;5;241m.\u001b[39m_client\u001b[38;5;241m.\u001b[39mbuild_request(method, path, params\u001b[38;5;241m=\u001b[39mparams, \u001b[38;5;241m*\u001b[39m\u001b[38;5;241m*\u001b[39mkwargs)\n\u001b[0;32m---> 53\u001b[0m \u001b[38;5;28;01mreturn\u001b[39;00m \u001b[38;5;28;01mawait\u001b[39;00m \u001b[38;5;28mself\u001b[39m\u001b[38;5;241m.\u001b[39m_client\u001b[38;5;241m.\u001b[39msend(request)\n",
      "File \u001b[0;32m~/Library/Python/3.9/lib/python/site-packages/prefect/client/base.py:361\u001b[0m, in \u001b[0;36mPrefectHttpxAsyncClient.send\u001b[0;34m(self, request, *args, **kwargs)\u001b[0m\n\u001b[1;32m    360\u001b[0m \u001b[38;5;28;01mif\u001b[39;00m \u001b[38;5;28mself\u001b[39m\u001b[38;5;241m.\u001b[39mraise_on_all_errors:\n\u001b[0;32m--> 361\u001b[0m     \u001b[43mresponse\u001b[49m\u001b[38;5;241;43m.\u001b[39;49m\u001b[43mraise_for_status\u001b[49m\u001b[43m(\u001b[49m\u001b[43m)\u001b[49m\n\u001b[1;32m    363\u001b[0m \u001b[38;5;28;01mreturn\u001b[39;00m response\n",
      "File \u001b[0;32m~/Library/Python/3.9/lib/python/site-packages/prefect/client/base.py:162\u001b[0m, in \u001b[0;36mPrefectResponse.raise_for_status\u001b[0;34m(self)\u001b[0m\n\u001b[1;32m    161\u001b[0m \u001b[38;5;28;01mexcept\u001b[39;00m HTTPStatusError \u001b[38;5;28;01mas\u001b[39;00m exc:\n\u001b[0;32m--> 162\u001b[0m     \u001b[38;5;28;01mraise\u001b[39;00m PrefectHTTPStatusError\u001b[38;5;241m.\u001b[39mfrom_httpx_error(exc) \u001b[38;5;28;01mfrom\u001b[39;00m \u001b[38;5;21;01mexc\u001b[39;00m\u001b[38;5;21;01m.\u001b[39;00m\u001b[38;5;21;01m__cause__\u001b[39;00m\n",
      "\u001b[0;31mPrefectHTTPStatusError\u001b[0m: Client error '404 Not Found' for url 'http://127.0.0.1:8484/api/work_pools/default-agent-pool'\nResponse: {'detail': 'Work pool \"default-agent-pool\" not found.'}\nFor more information check: https://developer.mozilla.org/en-US/docs/Web/HTTP/Status/404",
      "\nThe above exception was the direct cause of the following exception:\n",
      "\u001b[0;31mObjectNotFound\u001b[0m                            Traceback (most recent call last)",
      "File \u001b[0;32m~/Library/Python/3.9/lib/python/site-packages/prefect/flows.py:1500\u001b[0m, in \u001b[0;36mFlow.deploy\u001b[0;34m(self, name, work_pool_name, image, build, push, work_queue_name, job_variables, interval, cron, rrule, paused, schedule, schedules, concurrency_limit, triggers, parameters, description, tags, version, version_type, enforce_parameter_schema, entrypoint_type, print_next_steps, ignore_warnings, _sla)\u001b[0m\n\u001b[1;32m   1499\u001b[0m \u001b[38;5;28;01masync\u001b[39;00m \u001b[38;5;28;01mwith\u001b[39;00m get_client() \u001b[38;5;28;01mas\u001b[39;00m client:\n\u001b[0;32m-> 1500\u001b[0m     work_pool \u001b[38;5;241m=\u001b[39m \u001b[38;5;28;01mawait\u001b[39;00m client\u001b[38;5;241m.\u001b[39mread_work_pool(work_pool_name)\n\u001b[1;32m   1501\u001b[0m     active_workers \u001b[38;5;241m=\u001b[39m \u001b[38;5;28;01mawait\u001b[39;00m client\u001b[38;5;241m.\u001b[39mread_workers_for_work_pool(\n\u001b[1;32m   1502\u001b[0m         work_pool_name,\n\u001b[1;32m   1503\u001b[0m         worker_filter\u001b[38;5;241m=\u001b[39mWorkerFilter(\n\u001b[1;32m   1504\u001b[0m             status\u001b[38;5;241m=\u001b[39mWorkerFilterStatus(any_\u001b[38;5;241m=\u001b[39m[\u001b[38;5;124m\"\u001b[39m\u001b[38;5;124mONLINE\u001b[39m\u001b[38;5;124m\"\u001b[39m])\n\u001b[1;32m   1505\u001b[0m         ),\n\u001b[1;32m   1506\u001b[0m     )\n",
      "File \u001b[0;32m~/Library/Python/3.9/lib/python/site-packages/prefect/client/orchestration/_work_pools/client.py:424\u001b[0m, in \u001b[0;36mWorkPoolAsyncClient.read_work_pool\u001b[0;34m(self, work_pool_name)\u001b[0m\n\u001b[1;32m    423\u001b[0m \u001b[38;5;28;01mif\u001b[39;00m e\u001b[38;5;241m.\u001b[39mresponse\u001b[38;5;241m.\u001b[39mstatus_code \u001b[38;5;241m==\u001b[39m \u001b[38;5;241m404\u001b[39m:\n\u001b[0;32m--> 424\u001b[0m     \u001b[38;5;28;01mraise\u001b[39;00m ObjectNotFound(http_exc\u001b[38;5;241m=\u001b[39me) \u001b[38;5;28;01mfrom\u001b[39;00m \u001b[38;5;21;01me\u001b[39;00m\n\u001b[1;32m    425\u001b[0m \u001b[38;5;28;01melse\u001b[39;00m:\n",
      "\u001b[0;31mObjectNotFound\u001b[0m: None",
      "\nThe above exception was the direct cause of the following exception:\n",
      "\u001b[0;31mValueError\u001b[0m                                Traceback (most recent call last)",
      "Cell \u001b[0;32mIn[1], line 34\u001b[0m\n\u001b[1;32m     31\u001b[0m     \u001b[38;5;28;01mreturn\u001b[39;00m deployment\n\u001b[1;32m     33\u001b[0m \u001b[38;5;66;03m# Run the async function in Jupyter using await at top-level\u001b[39;00m\n\u001b[0;32m---> 34\u001b[0m deployment_result \u001b[38;5;241m=\u001b[39m \u001b[38;5;28;01mawait\u001b[39;00m register_deployment()\n\u001b[1;32m     35\u001b[0m \u001b[38;5;28mprint\u001b[39m(\u001b[38;5;124m\"\u001b[39m\u001b[38;5;124mDeployment registered:\u001b[39m\u001b[38;5;124m\"\u001b[39m, deployment_result)\n",
      "Cell \u001b[0;32mIn[1], line 18\u001b[0m, in \u001b[0;36mregister_deployment\u001b[0;34m()\u001b[0m\n\u001b[1;32m     13\u001b[0m loaded_flow \u001b[38;5;241m=\u001b[39m \u001b[38;5;28;01mawait\u001b[39;00m flow\u001b[38;5;241m.\u001b[39mfrom_source(\n\u001b[1;32m     14\u001b[0m     source\u001b[38;5;241m=\u001b[39mSOURCE_REPO,\n\u001b[1;32m     15\u001b[0m     entrypoint\u001b[38;5;241m=\u001b[39m\u001b[38;5;124m\"\u001b[39m\u001b[38;5;124mmy_workflow.py:show_stars\u001b[39m\u001b[38;5;124m\"\u001b[39m,  \u001b[38;5;66;03m# Adjust to your repo's structure\u001b[39;00m\n\u001b[1;32m     16\u001b[0m )\n\u001b[1;32m     17\u001b[0m \u001b[38;5;66;03m# Now deploy the loaded flow (awaiting the deploy call)\u001b[39;00m\n\u001b[0;32m---> 18\u001b[0m deployment \u001b[38;5;241m=\u001b[39m \u001b[38;5;28;01mawait\u001b[39;00m loaded_flow\u001b[38;5;241m.\u001b[39mdeploy(\n\u001b[1;32m     19\u001b[0m     name\u001b[38;5;241m=\u001b[39m\u001b[38;5;124m\"\u001b[39m\u001b[38;5;124mmy_deployment\u001b[39m\u001b[38;5;124m\"\u001b[39m,\n\u001b[1;32m     20\u001b[0m     parameters\u001b[38;5;241m=\u001b[39m{\n\u001b[1;32m     21\u001b[0m         \u001b[38;5;124m\"\u001b[39m\u001b[38;5;124mgithub_repos\u001b[39m\u001b[38;5;124m\"\u001b[39m: [\n\u001b[1;32m     22\u001b[0m             \u001b[38;5;124m\"\u001b[39m\u001b[38;5;124mwasit7/papapipeline\u001b[39m\u001b[38;5;124m\"\u001b[39m,\n\u001b[1;32m     23\u001b[0m             \u001b[38;5;124m\"\u001b[39m\u001b[38;5;124mwasit7/DjangoCrafter\u001b[39m\u001b[38;5;124m\"\u001b[39m,\n\u001b[1;32m     24\u001b[0m             \u001b[38;5;124m\"\u001b[39m\u001b[38;5;124mPrefectHQ/prefect\u001b[39m\u001b[38;5;124m\"\u001b[39m,\n\u001b[1;32m     25\u001b[0m             \u001b[38;5;124m\"\u001b[39m\u001b[38;5;124mhuggingface/transformers\u001b[39m\u001b[38;5;124m\"\u001b[39m\n\u001b[1;32m     26\u001b[0m         ]\n\u001b[1;32m     27\u001b[0m     },\n\u001b[1;32m     28\u001b[0m     work_pool_name\u001b[38;5;241m=\u001b[39m\u001b[38;5;124m\"\u001b[39m\u001b[38;5;124mdefault-agent-pool\u001b[39m\u001b[38;5;124m\"\u001b[39m,\n\u001b[1;32m     29\u001b[0m     cron\u001b[38;5;241m=\u001b[39m\u001b[38;5;124m\"\u001b[39m\u001b[38;5;124m*/5 * * * *\u001b[39m\u001b[38;5;124m\"\u001b[39m  \u001b[38;5;66;03m# Run every 5 minutes (adjust as needed)\u001b[39;00m\n\u001b[1;32m     30\u001b[0m )\n\u001b[1;32m     31\u001b[0m \u001b[38;5;28;01mreturn\u001b[39;00m deployment\n",
      "File \u001b[0;32m~/Library/Python/3.9/lib/python/site-packages/prefect/utilities/asyncutils.py:341\u001b[0m, in \u001b[0;36msync_compatible.<locals>.coroutine_wrapper.<locals>.ctx_call\u001b[0;34m()\u001b[0m\n\u001b[1;32m    339\u001b[0m token \u001b[38;5;241m=\u001b[39m RUNNING_ASYNC_FLAG\u001b[38;5;241m.\u001b[39mset(\u001b[38;5;28;01mTrue\u001b[39;00m)\n\u001b[1;32m    340\u001b[0m \u001b[38;5;28;01mtry\u001b[39;00m:\n\u001b[0;32m--> 341\u001b[0m     result \u001b[38;5;241m=\u001b[39m \u001b[38;5;28;01mawait\u001b[39;00m async_fn(\u001b[38;5;241m*\u001b[39margs, \u001b[38;5;241m*\u001b[39m\u001b[38;5;241m*\u001b[39mkwargs)\n\u001b[1;32m    342\u001b[0m \u001b[38;5;28;01mfinally\u001b[39;00m:\n\u001b[1;32m    343\u001b[0m     RUNNING_ASYNC_FLAG\u001b[38;5;241m.\u001b[39mreset(token)\n",
      "File \u001b[0;32m~/Library/Python/3.9/lib/python/site-packages/prefect/flows.py:1508\u001b[0m, in \u001b[0;36mFlow.deploy\u001b[0;34m(self, name, work_pool_name, image, build, push, work_queue_name, job_variables, interval, cron, rrule, paused, schedule, schedules, concurrency_limit, triggers, parameters, description, tags, version, version_type, enforce_parameter_schema, entrypoint_type, print_next_steps, ignore_warnings, _sla)\u001b[0m\n\u001b[1;32m   1501\u001b[0m         active_workers \u001b[38;5;241m=\u001b[39m \u001b[38;5;28;01mawait\u001b[39;00m client\u001b[38;5;241m.\u001b[39mread_workers_for_work_pool(\n\u001b[1;32m   1502\u001b[0m             work_pool_name,\n\u001b[1;32m   1503\u001b[0m             worker_filter\u001b[38;5;241m=\u001b[39mWorkerFilter(\n\u001b[1;32m   1504\u001b[0m                 status\u001b[38;5;241m=\u001b[39mWorkerFilterStatus(any_\u001b[38;5;241m=\u001b[39m[\u001b[38;5;124m\"\u001b[39m\u001b[38;5;124mONLINE\u001b[39m\u001b[38;5;124m\"\u001b[39m])\n\u001b[1;32m   1505\u001b[0m             ),\n\u001b[1;32m   1506\u001b[0m         )\n\u001b[1;32m   1507\u001b[0m \u001b[38;5;28;01mexcept\u001b[39;00m ObjectNotFound \u001b[38;5;28;01mas\u001b[39;00m exc:\n\u001b[0;32m-> 1508\u001b[0m     \u001b[38;5;28;01mraise\u001b[39;00m \u001b[38;5;167;01mValueError\u001b[39;00m(\n\u001b[1;32m   1509\u001b[0m         \u001b[38;5;124mf\u001b[39m\u001b[38;5;124m\"\u001b[39m\u001b[38;5;124mCould not find work pool \u001b[39m\u001b[38;5;132;01m{\u001b[39;00mwork_pool_name\u001b[38;5;132;01m!r}\u001b[39;00m\u001b[38;5;124m. Please create it before\u001b[39m\u001b[38;5;124m\"\u001b[39m\n\u001b[1;32m   1510\u001b[0m         \u001b[38;5;124m\"\u001b[39m\u001b[38;5;124m deploying this flow.\u001b[39m\u001b[38;5;124m\"\u001b[39m\n\u001b[1;32m   1511\u001b[0m     ) \u001b[38;5;28;01mfrom\u001b[39;00m \u001b[38;5;21;01mexc\u001b[39;00m\n\u001b[1;32m   1513\u001b[0m to_deployment_coro \u001b[38;5;241m=\u001b[39m \u001b[38;5;28mself\u001b[39m\u001b[38;5;241m.\u001b[39mto_deployment(\n\u001b[1;32m   1514\u001b[0m     name\u001b[38;5;241m=\u001b[39mname,\n\u001b[1;32m   1515\u001b[0m     interval\u001b[38;5;241m=\u001b[39minterval,\n\u001b[0;32m   (...)\u001b[0m\n\u001b[1;32m   1532\u001b[0m     _sla\u001b[38;5;241m=\u001b[39m_sla,\n\u001b[1;32m   1533\u001b[0m )\n\u001b[1;32m   1535\u001b[0m \u001b[38;5;28;01mif\u001b[39;00m inspect\u001b[38;5;241m.\u001b[39misawaitable(to_deployment_coro):\n",
      "\u001b[0;31mValueError\u001b[0m: Could not find work pool 'default-agent-pool'. Please create it before deploying this flow."
     ]
    }
   ],
   "source": [
    "\n",
    "\n",
    "import nest_asyncio\n",
    "nest_asyncio.apply()\n",
    "\n",
    "import asyncio\n",
    "from prefect import flow\n",
    "# Use the proper import for deployments if needed (depending on your version)\n",
    "# For example, in Prefect 3, the flow.from_source method is asynchronous.\n",
    "\n",
    "SOURCE_REPO = \"https://github.com/prefecthq/demos.git\"\n",
    "\n",
    "async def register_deployment():\n",
    "    # Await the from_source call to load the flow\n",
    "    loaded_flow = await flow.from_source(\n",
    "        source=SOURCE_REPO,\n",
    "        entrypoint=\"my_workflow.py:show_stars\",  # Adjust to your repo's structure\n",
    "    )\n",
    "    # Now deploy the loaded flow (awaiting the deploy call)\n",
    "    deployment = await loaded_flow.deploy(\n",
    "        name=\"my_deployment\",\n",
    "        parameters={\n",
    "            \"github_repos\": [\n",
    "                \"wasit7/papapipeline\",\n",
    "                \"wasit7/DjangoCrafter\",\n",
    "                \"PrefectHQ/prefect\",\n",
    "                \"huggingface/transformers\"\n",
    "            ]\n",
    "        },\n",
    "        work_pool_name=\"default-agent-pool\",\n",
    "        cron=\"*/5 * * * *\"  # Run every 5 minutes (adjust as needed)\n",
    "    )\n",
    "    return deployment\n",
    "\n",
    "# Run the async function in Jupyter using await at top-level\n",
    "deployment_result = await register_deployment()\n",
    "print(\"Deployment registered:\", deployment_result)\n"
   ]
  }
 ],
 "metadata": {
  "kernelspec": {
   "display_name": "Python 3",
   "language": "python",
   "name": "python3"
  },
  "language_info": {
   "codemirror_mode": {
    "name": "ipython",
    "version": 3
   },
   "file_extension": ".py",
   "mimetype": "text/x-python",
   "name": "python",
   "nbconvert_exporter": "python",
   "pygments_lexer": "ipython3",
   "version": "3.9.6"
  }
 },
 "nbformat": 4,
 "nbformat_minor": 2
}
